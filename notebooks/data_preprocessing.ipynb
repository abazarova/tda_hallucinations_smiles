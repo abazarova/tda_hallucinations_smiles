{
 "cells": [
  {
   "cell_type": "code",
   "execution_count": 1,
   "metadata": {},
   "outputs": [],
   "source": [
    "import json\n",
    "import pandas as pd\n",
    "from copy import deepcopy"
   ]
  },
  {
   "cell_type": "code",
   "execution_count": 2,
   "metadata": {},
   "outputs": [],
   "source": [
    "import os\n",
    "os.chdir(\"../\")"
   ]
  },
  {
   "cell_type": "code",
   "execution_count": 3,
   "metadata": {},
   "outputs": [],
   "source": [
    "source = []\n",
    "with open(\"assets/data/rag_truth/source_info.jsonl\", \"r\") as f:\n",
    "    for line in f:\n",
    "        source.append(json.loads(line))"
   ]
  },
  {
   "cell_type": "code",
   "execution_count": 4,
   "metadata": {},
   "outputs": [],
   "source": [
    "id_to_source = {elem.pop(\"source_id\") : elem for elem in deepcopy(source)}"
   ]
  },
  {
   "cell_type": "code",
   "execution_count": 7,
   "metadata": {},
   "outputs": [],
   "source": [
    "response = []\n",
    "with open(\"assets/data/rag_truth/response.jsonl\", \"r\") as f:\n",
    "    for line in f:\n",
    "        response.append(json.loads(line))"
   ]
  },
  {
   "cell_type": "code",
   "execution_count": 8,
   "metadata": {},
   "outputs": [],
   "source": [
    "models = set([elem[\"model\"] for elem in response])"
   ]
  },
  {
   "cell_type": "code",
   "execution_count": 9,
   "metadata": {},
   "outputs": [
    {
     "data": {
      "text/plain": [
       "{'gpt-3.5-turbo-0613',\n",
       " 'gpt-4-0613',\n",
       " 'llama-2-13b-chat',\n",
       " 'llama-2-70b-chat',\n",
       " 'llama-2-7b-chat',\n",
       " 'mistral-7B-instruct'}"
      ]
     },
     "execution_count": 9,
     "metadata": {},
     "output_type": "execute_result"
    }
   ],
   "source": [
    "models"
   ]
  },
  {
   "cell_type": "code",
   "execution_count": 10,
   "metadata": {},
   "outputs": [],
   "source": [
    "sources_summary_cnn = [elem for elem in source if elem[\"task_type\"] == \"Summary\" and elem[\"source\"] == \"CNN/DM\"]\n",
    "summary_cnn_ids = [elem[\"source_id\"] for elem in sources_summary_cnn]"
   ]
  },
  {
   "cell_type": "code",
   "execution_count": 11,
   "metadata": {},
   "outputs": [],
   "source": [
    "sources_qa = [elem for elem in source if elem[\"task_type\"] == \"QA\"]\n",
    "qa_ids = [elem[\"source_id\"] for elem in sources_qa]"
   ]
  },
  {
   "cell_type": "code",
   "execution_count": 12,
   "metadata": {},
   "outputs": [
    {
     "data": {
      "text/plain": [
       "{'id': '0',\n",
       " 'source_id': '15592',\n",
       " 'model': 'gpt-4-0613',\n",
       " 'temperature': 0.7,\n",
       " 'labels': [],\n",
       " 'split': 'train',\n",
       " 'quality': 'good',\n",
       " 'response': 'The Anne Frank House has revealed that Anne Frank and her older sister, Margot, likely died at least a month earlier than previously believed. The sisters, who were imprisoned in Nazi concentration camps during the Holocaust, were thought to have died in March 1945, just two weeks before the Bergen-Belsen camp was liberated. However, new research examining archives from the Red Cross, the International Tracing Service, the Bergen-Belsen Memorial, and survivor testimonies suggests that the sisters did not survive until March. The exact dates of their deaths remain unclear, but it is thought that both had symptoms of typhus, the disease they succumbed to, before February 7, 1945.'}"
      ]
     },
     "execution_count": 12,
     "metadata": {},
     "output_type": "execute_result"
    }
   ],
   "source": [
    "response[0]"
   ]
  },
  {
   "cell_type": "code",
   "execution_count": 13,
   "metadata": {},
   "outputs": [],
   "source": [
    "preprocessed_qa = []\n",
    "model_ids = [\"llama-2-7b-chat\", \"llama-2-13b-chat\", \"mistral-7B-instruct\"]\n",
    "for elem in response:\n",
    "    if (not elem[\"source_id\"] in qa_ids) or (not elem[\"model\"] in model_ids):\n",
    "        continue\n",
    "    preprocessed_qa.append(elem | {\"prompt\": id_to_source[elem[\"source_id\"]][\"prompt\"]})"
   ]
  },
  {
   "cell_type": "code",
   "execution_count": 14,
   "metadata": {},
   "outputs": [],
   "source": [
    "df = pd.DataFrame(preprocessed_qa)"
   ]
  },
  {
   "cell_type": "code",
   "execution_count": 16,
   "metadata": {},
   "outputs": [],
   "source": [
    "df.to_csv(\"assets/data/rag_truth/qa_samples.csv\")"
   ]
  },
  {
   "cell_type": "code",
   "execution_count": 17,
   "metadata": {},
   "outputs": [],
   "source": [
    "preprocessed_summary = []\n",
    "model_ids = [\"llama-2-7b-chat\", \"llama-2-13b-chat\", \"mistral-7B-instruct\"]\n",
    "for elem in response:\n",
    "    if (not elem[\"source_id\"] in summary_cnn_ids) or (not elem[\"model\"] in model_ids):\n",
    "        continue\n",
    "    preprocessed_summary.append(elem | {\"prompt\": id_to_source[elem[\"source_id\"]][\"prompt\"]})"
   ]
  },
  {
   "cell_type": "code",
   "execution_count": 18,
   "metadata": {},
   "outputs": [],
   "source": [
    "df = pd.DataFrame(preprocessed_summary)"
   ]
  },
  {
   "cell_type": "code",
   "execution_count": 19,
   "metadata": {},
   "outputs": [],
   "source": [
    "df.to_csv(\"assets/data/rag_truth/summ_samples.csv\")"
   ]
  },
  {
   "cell_type": "code",
   "execution_count": null,
   "metadata": {},
   "outputs": [],
   "source": []
  }
 ],
 "metadata": {
  "kernelspec": {
   "display_name": "base",
   "language": "python",
   "name": "python3"
  },
  "language_info": {
   "codemirror_mode": {
    "name": "ipython",
    "version": 3
   },
   "file_extension": ".py",
   "mimetype": "text/x-python",
   "name": "python",
   "nbconvert_exporter": "python",
   "pygments_lexer": "ipython3",
   "version": "3.9.17"
  }
 },
 "nbformat": 4,
 "nbformat_minor": 2
}
